{
 "cells": [
  {
   "cell_type": "code",
   "execution_count": 1,
   "id": "03da58b5",
   "metadata": {},
   "outputs": [],
   "source": [
    "# Import the random module.\n",
    "import random"
   ]
  },
  {
   "cell_type": "code",
   "execution_count": 2,
   "id": "3cb71a6e",
   "metadata": {},
   "outputs": [
    {
     "data": {
      "text/plain": [
       "-9"
      ]
     },
     "execution_count": 2,
     "metadata": {},
     "output_type": "execute_result"
    }
   ],
   "source": [
    "random.randint(-90,90)"
   ]
  },
  {
   "cell_type": "code",
   "execution_count": 3,
   "id": "decd8a51",
   "metadata": {},
   "outputs": [
    {
     "data": {
      "text/plain": [
       "0.3197230515819831"
      ]
     },
     "execution_count": 3,
     "metadata": {},
     "output_type": "execute_result"
    }
   ],
   "source": [
    "random.random()"
   ]
  },
  {
   "cell_type": "code",
   "execution_count": 4,
   "id": "800abefe",
   "metadata": {},
   "outputs": [
    {
     "data": {
      "text/plain": [
       "59.45715847323916"
      ]
     },
     "execution_count": 4,
     "metadata": {},
     "output_type": "execute_result"
    }
   ],
   "source": [
    "random_number = random.randint(-90,89) + random.random()\n",
    "random_number"
   ]
  },
  {
   "cell_type": "code",
   "execution_count": 5,
   "id": "f1e89185",
   "metadata": {},
   "outputs": [],
   "source": [
    "# sample of code that can generate ten random floating-point decimal latitudes between -90 and 89\n",
    "# saved in the latitudes empty list\n",
    "\n",
    "x = 1\n",
    "latitudes = []\n",
    "while x < 11:\n",
    "    random_lat = random.randint(-90, 89) + random.random()\n",
    "    latitudes.append(random_lat)\n",
    "    x += 1"
   ]
  },
  {
   "cell_type": "code",
   "execution_count": 6,
   "id": "116b113a",
   "metadata": {},
   "outputs": [
    {
     "data": {
      "text/plain": [
       "[-76.80245721503363,\n",
       " -74.1642029236043,\n",
       " -80.08315223020529,\n",
       " 53.08885636972465,\n",
       " -62.83893673426693,\n",
       " -71.90085384984731,\n",
       " -58.57778246689815,\n",
       " -83.3329918964752,\n",
       " 82.58857337276316,\n",
       " -3.88664548772626]"
      ]
     },
     "execution_count": 6,
     "metadata": {},
     "output_type": "execute_result"
    }
   ],
   "source": [
    "latitudes"
   ]
  },
  {
   "cell_type": "code",
   "execution_count": 7,
   "id": "19e85432",
   "metadata": {},
   "outputs": [
    {
     "data": {
      "text/plain": [
       "-27"
      ]
     },
     "execution_count": 7,
     "metadata": {},
     "output_type": "execute_result"
    }
   ],
   "source": [
    "random.randrange(-90,90,step=1)"
   ]
  },
  {
   "cell_type": "code",
   "execution_count": 8,
   "id": "d5e818fc",
   "metadata": {},
   "outputs": [
    {
     "data": {
      "text/plain": [
       "-90"
      ]
     },
     "execution_count": 8,
     "metadata": {},
     "output_type": "execute_result"
    }
   ],
   "source": [
    "random.randrange(-90,90,step=3)"
   ]
  },
  {
   "cell_type": "code",
   "execution_count": 9,
   "id": "fb3443ec",
   "metadata": {},
   "outputs": [
    {
     "data": {
      "text/plain": [
       "76.58883141483452"
      ]
     },
     "execution_count": 9,
     "metadata": {},
     "output_type": "execute_result"
    }
   ],
   "source": [
    "random.uniform(-90,90)"
   ]
  },
  {
   "cell_type": "code",
   "execution_count": 10,
   "id": "94a11ae4",
   "metadata": {},
   "outputs": [],
   "source": [
    "# Import the NumPy module.\n",
    "import numpy as np"
   ]
  },
  {
   "cell_type": "code",
   "execution_count": 11,
   "id": "5ba8ec22",
   "metadata": {},
   "outputs": [
    {
     "data": {
      "text/plain": [
       "-34.99946353727609"
      ]
     },
     "execution_count": 11,
     "metadata": {},
     "output_type": "execute_result"
    }
   ],
   "source": [
    "np.random.uniform(-90.000,90.000)"
   ]
  },
  {
   "cell_type": "code",
   "execution_count": 12,
   "id": "780492f2",
   "metadata": {},
   "outputs": [
    {
     "data": {
      "text/plain": [
       "array([ 7.39374675e+01,  7.44992090e+01,  6.35967521e+01, -8.57454908e+01,\n",
       "       -2.68853242e+01, -4.35682333e+01,  1.56738071e+01, -7.41810140e+01,\n",
       "       -7.94597086e+00,  8.94944066e+01, -5.79146875e+01, -5.09757626e+01,\n",
       "        8.87654806e+01, -1.23643040e+01,  4.49604346e+01, -6.64551142e+01,\n",
       "        7.50594151e+01, -4.39864884e+01,  1.48136501e+01,  9.77042865e+00,\n",
       "        1.43440820e+01,  1.41997013e+01, -3.59850679e+01, -4.45565064e+01,\n",
       "        2.73812846e+01,  8.88205878e+01,  1.61893339e+01, -8.12307635e+01,\n",
       "       -4.50783098e+01,  8.42823043e+01, -4.23654855e+01, -9.64312798e+00,\n",
       "       -2.69879178e+01,  2.83532930e+01, -3.73469712e+01,  1.94104249e+01,\n",
       "        5.92261096e-02,  5.97555173e+01, -3.59266026e+01,  4.31788136e+01,\n",
       "       -8.38220269e+01,  7.49496127e+01, -1.94797035e+00,  4.96597396e+00,\n",
       "       -2.36177521e+01, -1.51420449e+01,  1.69624829e+01,  9.51449114e-01,\n",
       "        7.51562594e+01,  4.29938541e+00])"
      ]
     },
     "execution_count": 12,
     "metadata": {},
     "output_type": "execute_result"
    }
   ],
   "source": [
    "np.random.uniform(-90.000,90.000,size=50)"
   ]
  },
  {
   "cell_type": "code",
   "execution_count": 13,
   "id": "9029563b",
   "metadata": {},
   "outputs": [],
   "source": [
    "# Import timeit.\n",
    "import timeit"
   ]
  },
  {
   "cell_type": "code",
   "execution_count": 14,
   "id": "458dccb9",
   "metadata": {},
   "outputs": [
    {
     "name": "stdout",
     "output_type": "stream",
     "text": [
      "19 µs ± 3.12 µs per loop (mean ± std. dev. of 7 runs, 10000 loops each)\n"
     ]
    }
   ],
   "source": [
    "%timeit np.random.uniform(-90.000, 90.000, size=1500)"
   ]
  },
  {
   "cell_type": "code",
   "execution_count": 15,
   "id": "2071e4c3",
   "metadata": {},
   "outputs": [
    {
     "name": "stdout",
     "output_type": "stream",
     "text": [
      "2.63 ms ± 207 µs per loop (mean ± std. dev. of 7 runs, 100 loops each)\n"
     ]
    }
   ],
   "source": [
    "def latitudes(size):\n",
    "    latitudes = []\n",
    "    x = 0\n",
    "    while x < (size):\n",
    "        random_lat = random.randint(-90, 90) + random.random()\n",
    "        latitudes.append(random_lat)\n",
    "        x += 1\n",
    "    return latitudes\n",
    "# Call the function with 1500.\n",
    "%timeit latitudes(1500)"
   ]
  },
  {
   "cell_type": "code",
   "execution_count": null,
   "id": "b43dd9bd",
   "metadata": {},
   "outputs": [],
   "source": []
  }
 ],
 "metadata": {
  "kernelspec": {
   "display_name": "PythonData",
   "language": "python",
   "name": "pythondata"
  },
  "language_info": {
   "codemirror_mode": {
    "name": "ipython",
    "version": 3
   },
   "file_extension": ".py",
   "mimetype": "text/x-python",
   "name": "python",
   "nbconvert_exporter": "python",
   "pygments_lexer": "ipython3",
   "version": "3.7.11"
  }
 },
 "nbformat": 4,
 "nbformat_minor": 5
}
